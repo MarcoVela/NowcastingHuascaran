{
 "cells": [
  {
   "cell_type": "code",
   "execution_count": 1,
   "id": "96a3c9a6",
   "metadata": {},
   "outputs": [],
   "source": [
    "using DrWatson"
   ]
  },
  {
   "cell_type": "code",
   "execution_count": 2,
   "id": "5696882e",
   "metadata": {},
   "outputs": [
    {
     "data": {
      "text/plain": [
       "\"NowcastingHuascaran\""
      ]
     },
     "execution_count": 2,
     "metadata": {},
     "output_type": "execute_result"
    }
   ],
   "source": [
    "@quickactivate\n",
    "projectname()"
   ]
  },
  {
   "cell_type": "code",
   "execution_count": 3,
   "id": "6ecd264b",
   "metadata": {},
   "outputs": [],
   "source": [
    "using PyCall\n",
    "using Serialization\n",
    "using ClimateBase\n",
    "using Plots\n",
    "using HDF5"
   ]
  },
  {
   "cell_type": "code",
   "execution_count": 4,
   "id": "19ab4fce",
   "metadata": {},
   "outputs": [
    {
     "data": {
      "text/plain": [
       "PyObject <module 'tensorflow.keras' from 'C:\\\\Users\\\\coolh\\\\miniconda3\\\\lib\\\\site-packages\\\\keras\\\\api\\\\_v2\\\\keras\\\\__init__.py'>"
      ]
     },
     "execution_count": 4,
     "metadata": {},
     "output_type": "execute_result"
    }
   ],
   "source": [
    "const tf = pyimport(\"tensorflow\")\n",
    "const keras = pyimport(\"tensorflow.keras\")"
   ]
  },
  {
   "cell_type": "code",
   "execution_count": 13,
   "id": "acc2e5e6",
   "metadata": {},
   "outputs": [
    {
     "data": {
      "text/plain": [
       "PyObject <function expand_dims at 0x00000000B9C80670>"
      ]
     },
     "execution_count": 13,
     "metadata": {},
     "output_type": "execute_result"
    }
   ],
   "source": [
    "repeat_elements = keras.backend.repeat_elements\n",
    "expand_dims = keras.backend.expand_dims"
   ]
  },
  {
   "cell_type": "code",
   "execution_count": null,
   "id": "0450a7a7",
   "metadata": {},
   "outputs": [],
   "source": []
  },
  {
   "cell_type": "code",
   "execution_count": 6,
   "id": "2139fb34",
   "metadata": {},
   "outputs": [
    {
     "data": {
      "text/plain": [
       "7-element Vector{String}:\n",
       " \"../artifacts/experiments/1\"\n",
       " \"../artifacts/experiments/Input6\" ⋯ 21 bytes ⋯ \"2_3x3x48_Drop0.2_1x1x48_3x3x3x1\"\n",
       " \"../artifacts/experiments/Input6\" ⋯ 36 bytes ⋯ \"2_3x3x64_Drop0.2_1x1x64_3x3x3x1\"\n",
       " \"../artifacts/experiments/Input6\" ⋯ 57 bytes ⋯ \"_ConvLSTM2D1x1x64_Conv3D3x3x3x1\"\n",
       " \"../artifacts/experiments/Input64x64x8_5x5x64_3x3x64_1x1x16\"\n",
       " \"../artifacts/experiments/InputL\" ⋯ 79 bytes ⋯ \"TM2D8x64x64x64_Conv2D8x64x64x64\"\n",
       " \"../artifacts/experiments/failed\""
      ]
     },
     "execution_count": 6,
     "metadata": {},
     "output_type": "execute_result"
    }
   ],
   "source": [
    "archs = readdir(\"../artifacts/experiments/\"; join=true)"
   ]
  },
  {
   "cell_type": "code",
   "execution_count": 7,
   "id": "318b5689",
   "metadata": {
    "scrolled": true
   },
   "outputs": [
    {
     "data": {
      "text/plain": [
       "19-element Vector{<:ClimArray}:\n",
       " \u001b[34mClimArray\u001b[39m (named \u001b[34mflash_extent_density\u001b[39m) with 64×64×288 Lon×Lat×Time data\n",
       " \u001b[34mClimArray\u001b[39m (named \u001b[34mflash_extent_density\u001b[39m) with 64×64×32 Lon×Lat×Time data\n",
       " \u001b[34mClimArray\u001b[39m (named \u001b[34mflash_extent_density\u001b[39m) with 64×64×25 Lon×Lat×Time data\n",
       " \u001b[34mClimArray\u001b[39m (named \u001b[34mflash_extent_density\u001b[39m) with 64×64×47 Lon×Lat×Time data\n",
       " \u001b[34mClimArray\u001b[39m (named \u001b[34mflash_extent_density\u001b[39m) with 64×64×135 Lon×Lat×Time data\n",
       " \u001b[34mClimArray\u001b[39m (named \u001b[34mflash_extent_density\u001b[39m) with 64×64×132 Lon×Lat×Time data\n",
       " \u001b[34mClimArray\u001b[39m (named \u001b[34mflash_extent_density\u001b[39m) with 64×64×103 Lon×Lat×Time data\n",
       " \u001b[34mClimArray\u001b[39m (named \u001b[34mflash_extent_density\u001b[39m) with 64×64×76 Lon×Lat×Time data\n",
       " \u001b[34mClimArray\u001b[39m (named \u001b[34mflash_extent_density\u001b[39m) with 64×64×117 Lon×Lat×Time data\n",
       " \u001b[34mClimArray\u001b[39m (named \u001b[34mflash_extent_density\u001b[39m) with 64×64×97 Lon×Lat×Time data\n",
       " \u001b[34mClimArray\u001b[39m (named \u001b[34mflash_extent_density\u001b[39m) with 64×64×30 Lon×Lat×Time data\n",
       " \u001b[34mClimArray\u001b[39m (named \u001b[34mflash_extent_density\u001b[39m) with 64×64×27 Lon×Lat×Time data\n",
       " \u001b[34mClimArray\u001b[39m (named \u001b[34mflash_extent_density\u001b[39m) with 64×64×110 Lon×Lat×Time data\n",
       " \u001b[34mClimArray\u001b[39m (named \u001b[34mflash_extent_density\u001b[39m) with 64×64×65 Lon×Lat×Time data\n",
       " \u001b[34mClimArray\u001b[39m (named \u001b[34mflash_extent_density\u001b[39m) with 64×64×116 Lon×Lat×Time data\n",
       " \u001b[34mClimArray\u001b[39m (named \u001b[34mflash_extent_density\u001b[39m) with 64×64×57 Lon×Lat×Time data\n",
       " \u001b[34mClimArray\u001b[39m (named \u001b[34mflash_extent_density\u001b[39m) with 64×64×44 Lon×Lat×Time data\n",
       " \u001b[34mClimArray\u001b[39m (named \u001b[34mflash_extent_density\u001b[39m) with 64×64×54 Lon×Lat×Time data\n",
       " \u001b[34mClimArray\u001b[39m (named \u001b[34mflash_extent_density\u001b[39m) with 64×64×25 Lon×Lat×Time data\n"
      ]
     },
     "execution_count": 7,
     "metadata": {},
     "output_type": "execute_result"
    }
   ],
   "source": [
    "ds_path = datadir(\"exp_pro\", \"GLM-L2-LCFA_8km_5m_boxes\", \"2019\", \"jls\")\n",
    "ds = deserialize(readdir(ds_path; join=true)[1])"
   ]
  },
  {
   "cell_type": "code",
   "execution_count": null,
   "id": "4afa5ddd",
   "metadata": {},
   "outputs": [],
   "source": []
  },
  {
   "cell_type": "code",
   "execution_count": 8,
   "id": "1d62d8a2",
   "metadata": {},
   "outputs": [
    {
     "data": {
      "text/plain": [
       "animation (generic function with 1 method)"
      ]
     },
     "execution_count": 8,
     "metadata": {},
     "output_type": "execute_result"
    }
   ],
   "source": []
  },
  {
   "cell_type": "code",
   "execution_count": 36,
   "id": "b18217d4",
   "metadata": {},
   "outputs": [
    {
     "data": {
      "text/plain": [
       "5×5×5 Array{Float32, 3}:\n",
       "[:, :, 1] =\n",
       " 1.0  1.0  0.0  1.0  1.0\n",
       " 1.0  0.0  1.0  0.0  1.0\n",
       " 1.0  1.0  1.0  1.0  1.0\n",
       " 1.0  0.0  1.0  1.0  1.0\n",
       " 0.0  1.0  1.0  1.0  0.0\n",
       "\n",
       "[:, :, 2] =\n",
       " 0.0  1.0  1.0  1.0  1.0\n",
       " 1.0  1.0  1.0  1.0  0.0\n",
       " 1.0  1.0  1.0  1.0  1.0\n",
       " 0.0  0.0  0.0  1.0  0.0\n",
       " 0.0  1.0  0.0  1.0  1.0\n",
       "\n",
       "[:, :, 3] =\n",
       " 1.0  1.0  1.0  1.0  0.0\n",
       " 1.0  1.0  0.0  1.0  0.0\n",
       " 0.0  1.0  0.0  1.0  1.0\n",
       " 1.0  0.0  0.0  1.0  1.0\n",
       " 0.0  1.0  1.0  1.0  0.0\n",
       "\n",
       "[:, :, 4] =\n",
       " 1.0  0.0  1.0  1.0  1.0\n",
       " 1.0  0.0  1.0  1.0  1.0\n",
       " 1.0  1.0  1.0  1.0  1.0\n",
       " 0.0  1.0  0.0  0.0  1.0\n",
       " 1.0  1.0  0.0  1.0  1.0\n",
       "\n",
       "[:, :, 5] =\n",
       " 1.0  1.0  1.0  1.0  1.0\n",
       " 1.0  1.0  0.0  1.0  1.0\n",
       " 1.0  1.0  0.0  1.0  0.0\n",
       " 0.0  1.0  1.0  1.0  0.0\n",
       " 1.0  1.0  1.0  0.0  1.0"
      ]
     },
     "execution_count": 36,
     "metadata": {},
     "output_type": "execute_result"
    }
   ],
   "source": [
    "x = Float32.(rand(Float32, 5, 5, 5) .> .3)"
   ]
  },
  {
   "cell_type": "code",
   "execution_count": 38,
   "id": "aa34dcf0",
   "metadata": {},
   "outputs": [
    {
     "data": {
      "text/plain": [
       "5×5×5 BitArray{3}:\n",
       "[:, :, 1] =\n",
       " 1  1  0  1  1\n",
       " 1  0  1  0  1\n",
       " 1  1  1  1  1\n",
       " 1  0  1  1  1\n",
       " 0  1  1  1  0\n",
       "\n",
       "[:, :, 2] =\n",
       " 0  1  1  1  1\n",
       " 1  1  1  1  0\n",
       " 1  1  1  1  1\n",
       " 0  0  0  1  0\n",
       " 0  1  0  1  1\n",
       "\n",
       "[:, :, 3] =\n",
       " 1  1  1  1  0\n",
       " 1  1  0  1  0\n",
       " 0  1  0  1  1\n",
       " 1  0  0  1  1\n",
       " 0  1  1  1  0\n",
       "\n",
       "[:, :, 4] =\n",
       " 1  0  1  1  1\n",
       " 1  0  1  1  1\n",
       " 1  1  1  1  1\n",
       " 0  1  0  0  1\n",
       " 1  1  0  1  1\n",
       "\n",
       "[:, :, 5] =\n",
       " 1  1  1  1  1\n",
       " 1  1  0  1  1\n",
       " 1  1  0  1  0\n",
       " 0  1  1  1  0\n",
       " 1  1  1  0  1"
      ]
     },
     "execution_count": 38,
     "metadata": {},
     "output_type": "execute_result"
    }
   ],
   "source": [
    "x .== x .== 1"
   ]
  },
  {
   "cell_type": "code",
   "execution_count": 102,
   "id": "3de96a1d",
   "metadata": {},
   "outputs": [
    {
     "data": {
      "text/plain": [
       "animation_comparation (generic function with 1 method)"
      ]
     },
     "execution_count": 102,
     "metadata": {},
     "output_type": "execute_result"
    }
   ],
   "source": [
    "function animation_comparation(preds, grounds, fps)\n",
    "    n = size(preds, 3)\n",
    "    anim = @time @animate for i = 1:n\n",
    "        pred = preds[:,:,i]\n",
    "        ground = grounds[:,:,i]\n",
    "        intersect_t = ground .≈ pred .≈ 1.0\n",
    "        zerotonan(x) = x == 0 ? NaN : x\n",
    "        \n",
    "        h1 = heatmap(ground, c=cgrad([:black, :red]), legend=false, clim=(0,1))\n",
    "        heatmap!(zerotonan.(pred), c=cgrad([:black, :white]), legend=false, clim=(0,1))\n",
    "        heatmap!(zerotonan.(intersect_t), c=cgrad([:black, :blue]), legend=false, clim=(0,1))\n",
    "        plot(h1, size=(480,480), title=\"Frame $i\")\n",
    "    end\n",
    "    gif(anim, fps=fps)\n",
    "end"
   ]
  },
  {
   "cell_type": "code",
   "execution_count": null,
   "id": "fa3d9e78",
   "metadata": {},
   "outputs": [],
   "source": []
  },
  {
   "cell_type": "code",
   "execution_count": 24,
   "id": "09ab3310",
   "metadata": {},
   "outputs": [
    {
     "name": "stdout",
     "output_type": "stream",
     "text": [
      "size(ds[i]) = (64, 64, 132)\n"
     ]
    }
   ],
   "source": [
    "i = 6\n",
    "@show size(ds[i])\n",
    "dataset = copy(ds[i].data);"
   ]
  },
  {
   "cell_type": "code",
   "execution_count": 9,
   "id": "3fcc1d4a",
   "metadata": {},
   "outputs": [
    {
     "data": {
      "text/plain": [
       "7-element Vector{String}:\n",
       " \"../artifacts/experiments/1\"\n",
       " \"../artifacts/experiments/Input6\" ⋯ 21 bytes ⋯ \"2_3x3x48_Drop0.2_1x1x48_3x3x3x1\"\n",
       " \"../artifacts/experiments/Input6\" ⋯ 36 bytes ⋯ \"2_3x3x64_Drop0.2_1x1x64_3x3x3x1\"\n",
       " \"../artifacts/experiments/Input6\" ⋯ 57 bytes ⋯ \"_ConvLSTM2D1x1x64_Conv3D3x3x3x1\"\n",
       " \"../artifacts/experiments/Input64x64x8_5x5x64_3x3x64_1x1x16\"\n",
       " \"../artifacts/experiments/InputL\" ⋯ 79 bytes ⋯ \"TM2D8x64x64x64_Conv2D8x64x64x64\"\n",
       " \"../artifacts/experiments/failed\""
      ]
     },
     "execution_count": 9,
     "metadata": {},
     "output_type": "execute_result"
    }
   ],
   "source": [
    "archs"
   ]
  },
  {
   "cell_type": "code",
   "execution_count": 60,
   "id": "0a6fbbc8",
   "metadata": {},
   "outputs": [
    {
     "data": {
      "text/plain": [
       "2-element Vector{String}:\n",
       " \"../artifacts/experiments/InputL\" ⋯ 107 bytes ⋯ \"x64\\\\saved-model-01-0.007682.h5\"\n",
       " \"../artifacts/experiments/InputL\" ⋯ 107 bytes ⋯ \"x64\\\\saved-model-02-0.007250.h5\""
      ]
     },
     "execution_count": 60,
     "metadata": {},
     "output_type": "execute_result"
    }
   ],
   "source": [
    "i_arch = 6\n",
    "models = readdir(archs[i_arch]; join=true)"
   ]
  },
  {
   "cell_type": "code",
   "execution_count": null,
   "id": "868e46d5",
   "metadata": {},
   "outputs": [],
   "source": []
  },
  {
   "cell_type": "code",
   "execution_count": 61,
   "id": "8f9cd1c8",
   "metadata": {},
   "outputs": [
    {
     "data": {
      "text/plain": [
       "PyObject <keras.engine.functional.Functional object at 0x00000000BDC48A90>"
      ]
     },
     "execution_count": 61,
     "metadata": {},
     "output_type": "execute_result"
    }
   ],
   "source": [
    "model = keras.models.load_model(\n",
    "    models[end], \n",
    "    custom_objects = Dict(\"repeat_elements\"=>repeat_elements, \"expand_dims\"=>expand_dims)\n",
    ")"
   ]
  },
  {
   "cell_type": "code",
   "execution_count": null,
   "id": "e2a02bad",
   "metadata": {
    "scrolled": false
   },
   "outputs": [],
   "source": []
  },
  {
   "cell_type": "code",
   "execution_count": 62,
   "id": "b295cdb4",
   "metadata": {},
   "outputs": [
    {
     "name": "stdout",
     "output_type": "stream",
     "text": [
      "Model: \"model_8\"\r\n",
      "_________________________________________________________________\r\n",
      " Layer (type)                Output Shape              Param #   \r\n",
      "=================================================================\r\n",
      " input_9 (InputLayer)        [(None, 16, 64, 64, 1)]   0         \r\n",
      "                                                                 \r\n",
      " conv_lst_m2d_32 (ConvLSTM2D  (None, 16, 64, 64, 48)   235392    \r\n",
      " )                                                               \r\n",
      "                                                                 \r\n",
      " conv_lst_m2d_33 (ConvLSTM2D  (None, 64, 64, 64)       258304    \r\n",
      " )                                                               \r\n",
      "                                                                 \r\n",
      " lambda_8 (Lambda)           (None, 8, 64, 64, 64)     0         \r\n",
      "                                                                 \r\n",
      " conv_lst_m2d_34 (ConvLSTM2D  (None, 8, 64, 64, 64)    33024     \r\n",
      " )                                                               \r\n",
      "                                                                 \r\n",
      " conv_lst_m2d_35 (ConvLSTM2D  (None, 8, 64, 64, 64)    33024     \r\n",
      " )                                                               \r\n",
      "                                                                 \r\n",
      " conv2d_8 (Conv2D)           (None, 8, 64, 64, 64)     36928     \r\n",
      "                                                                 \r\n",
      "=================================================================\r\n",
      "Total params: 596,672\r\n",
      "Trainable params: 596,672\r\n",
      "Non-trainable params: 0\r\n",
      "_________________________________________________________________\r\n"
     ]
    }
   ],
   "source": [
    "model.summary()"
   ]
  },
  {
   "cell_type": "code",
   "execution_count": 81,
   "id": "55382d8b",
   "metadata": {},
   "outputs": [],
   "source": [
    "using Images"
   ]
  },
  {
   "cell_type": "code",
   "execution_count": 107,
   "id": "f070efd7",
   "metadata": {},
   "outputs": [
    {
     "name": "stdout",
     "output_type": "stream",
     "text": [
      "  0.283162 seconds (2.36 M allocations: 74.242 MiB, 4.93% gc time)\n"
     ]
    },
    {
     "name": "stderr",
     "output_type": "stream",
     "text": [
      "┌ Info: Saved animation to \n",
      "│   fn = E:\\nowcasting-huascaran\\notebooks\\tmp.gif\n",
      "└ @ Plots C:\\Users\\coolh\\.julia\\packages\\Plots\\LI4FE\\src\\animation.jl:114\n"
     ]
    },
    {
     "data": {
      "text/html": [
       "<img src=\"data:image/gif;base64,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\" />"
      ],
      "text/plain": [
       "Plots.AnimatedGif(\"E:\\\\nowcasting-huascaran\\\\notebooks\\\\tmp.gif\")"
      ]
     },
     "execution_count": 107,
     "metadata": {},
     "output_type": "execute_result"
    }
   ],
   "source": [
    "T_START = 60\n",
    "TIME = 16\n",
    "TIME_OUT = 8\n",
    "X, y = ds[i].data[:, :, T_START:T_START+TIME-1], ds[i].data[:, :, T_START+TIME:T_START+TIME+TIME_OUT]\n",
    "X = permutedims(reshape(X, (1, 64, 64, TIME, 1)), (5,4,3,2,1))\n",
    "X = log.(X .+ 1)\n",
    "\n",
    "#y = permutedims(model.predict(X / X_MAX), (5,4,3,2,1)) * X_MAX\n",
    "predicted_y = permutedims(model.predict(X / X_MAX), (5,4,3,2,1))\n",
    "predicted_y = predicted_y[1, :, :, :, 1]\n",
    "#animation_comparation((predicted_y), y, 2)\n",
    "zerotonan(x) = x == 0 ? NaN : x\n",
    "animation_comparation(predicted_y .> 0.1, y, 2)"
   ]
  },
  {
   "cell_type": "code",
   "execution_count": null,
   "id": "68859432",
   "metadata": {},
   "outputs": [],
   "source": []
  },
  {
   "cell_type": "code",
   "execution_count": null,
   "id": "e16ea55b",
   "metadata": {},
   "outputs": [],
   "source": []
  },
  {
   "cell_type": "code",
   "execution_count": null,
   "id": "0e185f14",
   "metadata": {},
   "outputs": [],
   "source": []
  },
  {
   "cell_type": "code",
   "execution_count": null,
   "id": "8ae9b23a",
   "metadata": {},
   "outputs": [],
   "source": [
    "# Balancear el conjunto de datos respecto al maximo de densidad de rayos\n",
    "# Grafica de residuales o scatterplot (diferencia del target vs. predicho en eje y, eje x valor target)"
   ]
  },
  {
   "cell_type": "code",
   "execution_count": null,
   "id": "17e907cf",
   "metadata": {
    "scrolled": false
   },
   "outputs": [],
   "source": [
    "# [0, 1>\n",
    "# [1, x>..."
   ]
  },
  {
   "cell_type": "code",
   "execution_count": null,
   "id": "4ec2e76e",
   "metadata": {},
   "outputs": [],
   "source": []
  },
  {
   "cell_type": "code",
   "execution_count": null,
   "id": "193b9771",
   "metadata": {},
   "outputs": [],
   "source": [
    "start = 50\n",
    "X_ds, y = ds[i].data[:, :, start:start+n-1], ds[i].data[:, :, start+n:start+2n-1]\n",
    "X = permutedims(reshape(X_ds, (1, 64, 64, 8, 1)), (5,4,3,2,1))\n",
    "X_max = maximum(X)\n",
    "ŷ = permutedims(model.predict(X / X_max), (5,4,3,2,1))\n",
    "losses = [Flux.Losses.binarycrossentropy(ŷ[1,:,:,i,1], X_ds[:, :, i] / X_max) for i in 1:n]\n",
    "plot(losses)"
   ]
  },
  {
   "cell_type": "code",
   "execution_count": null,
   "id": "a2a62b45",
   "metadata": {},
   "outputs": [],
   "source": [
    "?Flux.Losses.binarycrossentropy"
   ]
  },
  {
   "cell_type": "code",
   "execution_count": null,
   "id": "7b356feb",
   "metadata": {},
   "outputs": [],
   "source": []
  }
 ],
 "metadata": {
  "kernelspec": {
   "display_name": "Julia 1.7.2",
   "language": "julia",
   "name": "julia-1.7"
  },
  "language_info": {
   "file_extension": ".jl",
   "mimetype": "application/julia",
   "name": "julia",
   "version": "1.7.2"
  }
 },
 "nbformat": 4,
 "nbformat_minor": 5
}
