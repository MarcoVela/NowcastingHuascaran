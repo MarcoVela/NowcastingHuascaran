{
 "cells": [
  {
   "cell_type": "code",
   "execution_count": 1,
   "id": "6a9651cf",
   "metadata": {},
   "outputs": [],
   "source": [
    "using DrWatson\n",
    "@quickactivate"
   ]
  },
  {
   "cell_type": "code",
   "execution_count": 31,
   "id": "c3ac110d",
   "metadata": {},
   "outputs": [
    {
     "data": {
      "text/plain": [
       "generate_dataset (generic function with 1 method)"
      ]
     },
     "execution_count": 31,
     "metadata": {},
     "output_type": "execute_result"
    }
   ],
   "source": [
    "include(srcdir(\"utilsh5.jl\"))"
   ]
  },
  {
   "cell_type": "code",
   "execution_count": 32,
   "id": "707fd4c2",
   "metadata": {},
   "outputs": [
    {
     "data": {
      "text/plain": [
       "\"E:\\\\nowcasting-huascaran\\\\data\\\\exp_pro\\\\GLM-L2-LCFA_8km_5m\\\\2019\""
      ]
     },
     "execution_count": 32,
     "metadata": {},
     "output_type": "execute_result"
    }
   ],
   "source": [
    "indir = datadir(\"exp_pro\", \"GLM-L2-LCFA_8km_5m\", \"2019\")\n",
    "@assert isdir(indir)\n",
    "indir"
   ]
  },
  {
   "cell_type": "code",
   "execution_count": 33,
   "id": "fa5770f0",
   "metadata": {},
   "outputs": [
    {
     "data": {
      "text/plain": [
       "\"E:\\\\nowcasting-huascaran\\\\data\\\\exp_pro\\\\GLM-L2-LCFA_8km_5m_boxes\\\\2019\""
      ]
     },
     "execution_count": 33,
     "metadata": {},
     "output_type": "execute_result"
    }
   ],
   "source": [
    "outdir = datadir(\"exp_pro\", \"GLM-L2-LCFA_8km_5m_boxes\", \"2019\")"
   ]
  },
  {
   "cell_type": "code",
   "execution_count": 34,
   "id": "c5b78c64",
   "metadata": {},
   "outputs": [
    {
     "name": "stderr",
     "output_type": "stream",
     "text": [
      "┌ Warning: The Git repository ('E:\\nowcasting-huascaran') is dirty! Appending -dirty to the commit ID.\n",
      "└ @ DrWatson C:\\Users\\coolh\\.julia\\packages\\DrWatson\\S4dYA\\src\\saving_tools.jl:65\n",
      "\u001b[32mProgress: 100%|█████████████████████████████████████████| Time: 2:52:55\u001b[39m\n"
     ]
    }
   ],
   "source": [
    "generate_dataset(indir, outdir;\n",
    "    params=Dict(\n",
    "        :WIDTH => 64,\n",
    "        :HEIGHT => 64,\n",
    "        :TIME_IN => 32,\n",
    "        :TIME_OUT => 16,\n",
    "        :RNG_SEED => 42,\n",
    "        :CLUSTERING_THRESHOLD => zero(Float32),\n",
    "        :CLUSTERING_RADIUS => 24,\n",
    "        :CLUSTERING_MIN_CLUSTER_SIZE => 512,\n",
    "        :CLUSTERING_TIME_FACTOR => 8,\n",
    "        :SLIDING_WINDOW_STEPS => 4,\n",
    "        :BATCH_SIZE => 2048,\n",
    "        :TIME_DELTA_BEFORE => 6,\n",
    "        :TIME_DELTA_AFTER => 4,\n",
    "    )\n",
    ")"
   ]
  },
  {
   "cell_type": "code",
   "execution_count": null,
   "id": "849ec5a2",
   "metadata": {},
   "outputs": [],
   "source": []
  }
 ],
 "metadata": {
  "kernelspec": {
   "display_name": "Julia 1.7.2",
   "language": "julia",
   "name": "julia-1.7"
  },
  "language_info": {
   "file_extension": ".jl",
   "mimetype": "application/julia",
   "name": "julia",
   "version": "1.7.2"
  }
 },
 "nbformat": 4,
 "nbformat_minor": 5
}
