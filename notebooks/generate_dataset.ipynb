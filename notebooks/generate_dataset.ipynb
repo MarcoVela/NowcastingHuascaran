{
 "cells": [
  {
   "cell_type": "code",
   "execution_count": 1,
   "id": "447ca2b7",
   "metadata": {},
   "outputs": [],
   "source": [
    "using DrWatson\n",
    "@quickactivate"
   ]
  },
  {
   "cell_type": "code",
   "execution_count": 2,
   "id": "4c30a983",
   "metadata": {},
   "outputs": [
    {
     "ename": "LoadError",
     "evalue": "LoadError: UndefVarError: @showprogress not defined\nin expression starting at E:\\nowcasting-huascaran\\src\\utilsh5.jl:186\nin expression starting at E:\\nowcasting-huascaran\\src\\utilsh5.jl:178",
     "output_type": "error",
     "traceback": [
      "LoadError: UndefVarError: @showprogress not defined\nin expression starting at E:\\nowcasting-huascaran\\src\\utilsh5.jl:186\nin expression starting at E:\\nowcasting-huascaran\\src\\utilsh5.jl:178",
      "",
      "Stacktrace:",
      " [1] top-level scope",
      "   @ :0",
      " [2] include(fname::String)",
      "   @ Base.MainInclude .\\client.jl:451",
      " [3] top-level scope",
      "   @ In[2]:1",
      " [4] eval",
      "   @ .\\boot.jl:373 [inlined]",
      " [5] include_string(mapexpr::typeof(REPL.softscope), mod::Module, code::String, filename::String)",
      "   @ Base .\\loading.jl:1196"
     ]
    }
   ],
   "source": [
    "include(srcdir(\"utilsh5.jl\"))"
   ]
  },
  {
   "cell_type": "code",
   "execution_count": null,
   "id": "6b6ec472",
   "metadata": {},
   "outputs": [],
   "source": []
  }
 ],
 "metadata": {
  "kernelspec": {
   "display_name": "Julia 1.7.2",
   "language": "julia",
   "name": "julia-1.7"
  },
  "language_info": {
   "file_extension": ".jl",
   "mimetype": "application/julia",
   "name": "julia",
   "version": "1.7.2"
  }
 },
 "nbformat": 4,
 "nbformat_minor": 5
}
