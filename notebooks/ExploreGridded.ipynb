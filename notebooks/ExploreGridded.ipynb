{
 "cells": [
  {
   "cell_type": "code",
   "execution_count": 5,
   "id": "numerous-enemy",
   "metadata": {},
   "outputs": [],
   "source": [
    "using DrWatson\n",
    "@quickactivate"
   ]
  },
  {
   "cell_type": "code",
   "execution_count": 6,
   "id": "generic-marriage",
   "metadata": {},
   "outputs": [],
   "source": [
    "using NetCDF"
   ]
  },
  {
   "cell_type": "code",
   "execution_count": 8,
   "id": "brilliant-radar",
   "metadata": {
    "collapsed": true
   },
   "outputs": [
    {
     "data": {
      "text/plain": [
       "22-element Vector{String}:\n",
       " \"/home/marco/Documents/VSCode/No\" ⋯ 80 bytes ⋯ \"192991800000_c20210602335230.nc\"\n",
       " \"/home/marco/Documents/VSCode/No\" ⋯ 56 bytes ⋯ \"MF-M3_G16_T10_20191026180000.nc\"\n",
       " \"/home/marco/Documents/VSCode/No\" ⋯ 56 bytes ⋯ \"MF-M3_G16_T11_20191026180000.nc\"\n",
       " \"/home/marco/Documents/VSCode/No\" ⋯ 56 bytes ⋯ \"MF-M3_G16_T15_20191026180000.nc\"\n",
       " \"/home/marco/Documents/VSCode/No\" ⋯ 56 bytes ⋯ \"MF-M3_G16_T18_20191026180000.nc\"\n",
       " \"/home/marco/Documents/VSCode/No\" ⋯ 56 bytes ⋯ \"MF-M3_G16_T20_20191026180000.nc\"\n",
       " \"/home/marco/Documents/VSCode/No\" ⋯ 56 bytes ⋯ \"MF-M3_G16_T21_20191026180000.nc\"\n",
       " \"/home/marco/Documents/VSCode/No\" ⋯ 56 bytes ⋯ \"MF-M3_G16_T22_20191026180000.nc\"\n",
       " \"/home/marco/Documents/VSCode/No\" ⋯ 56 bytes ⋯ \"MF-M3_G16_T27_20191026180000.nc\"\n",
       " \"/home/marco/Documents/VSCode/No\" ⋯ 56 bytes ⋯ \"MF-M3_G16_T28_20191026180000.nc\"\n",
       " \"/home/marco/Documents/VSCode/No\" ⋯ 56 bytes ⋯ \"MF-M3_G16_T29_20191026180000.nc\"\n",
       " \"/home/marco/Documents/VSCode/No\" ⋯ 56 bytes ⋯ \"MF-M3_G16_T33_20191026180000.nc\"\n",
       " \"/home/marco/Documents/VSCode/No\" ⋯ 56 bytes ⋯ \"MF-M3_G16_T34_20191026180000.nc\"\n",
       " \"/home/marco/Documents/VSCode/No\" ⋯ 56 bytes ⋯ \"MF-M3_G16_T35_20191026180000.nc\"\n",
       " \"/home/marco/Documents/VSCode/No\" ⋯ 56 bytes ⋯ \"MF-M3_G16_T40_20191026180000.nc\"\n",
       " \"/home/marco/Documents/VSCode/No\" ⋯ 56 bytes ⋯ \"MF-M3_G16_T41_20191026180000.nc\"\n",
       " \"/home/marco/Documents/VSCode/No\" ⋯ 56 bytes ⋯ \"MF-M3_G16_T43_20191026180000.nc\"\n",
       " \"/home/marco/Documents/VSCode/No\" ⋯ 56 bytes ⋯ \"MF-M3_G16_T46_20191026180000.nc\"\n",
       " \"/home/marco/Documents/VSCode/No\" ⋯ 56 bytes ⋯ \"MF-M3_G16_T47_20191026180000.nc\"\n",
       " \"/home/marco/Documents/VSCode/No\" ⋯ 56 bytes ⋯ \"MF-M3_G16_T52_20191026180000.nc\"\n",
       " \"/home/marco/Documents/VSCode/No\" ⋯ 56 bytes ⋯ \"MF-M3_G16_T53_20191026180000.nc\"\n",
       " \"/home/marco/Documents/VSCode/No\" ⋯ 56 bytes ⋯ \"MF-M3_G16_T58_20191026180000.nc\""
      ]
     },
     "execution_count": 8,
     "metadata": {},
     "output_type": "execute_result"
    }
   ],
   "source": [
    "paths = readdir(datadir(\"exp_pro\", \"Gridded\"); join=true)"
   ]
  },
  {
   "cell_type": "code",
   "execution_count": 30,
   "id": "terminal-stationery",
   "metadata": {},
   "outputs": [
    {
     "data": {
      "text/plain": [
       "\n",
       "##### NetCDF File #####\n",
       "\n",
       "/home/marco/Documents/VSCode/NowcastingHuascaran/data/exp_pro/Gridded/CG_GLM-L2-GLMF-M3_G16_s20192991759000_e20192991800000_c20210602335230.nc\n",
       "\n",
       "##### Dimensions #####\n",
       "\n",
       "Name                                                Length                    \n",
       "--------------------------------------------------------------------------------\n",
       "x                                                   5424                      \n",
       "y                                                   5424                      \n",
       "\n",
       "##### Variables #####\n",
       "\n",
       "Name                            Type            Dimensions                      \n",
       "--------------------------------------------------------------------------------\n",
       "nominal_satellite_subpoint_lon  DOUBLE                                          \n",
       "minimum_flash_area              FLOAT           x y                             \n",
       "x                               SHORT           x                               \n",
       "average_flash_area              FLOAT           x y                             \n",
       "average_group_area              FLOAT           x y                             \n",
       "flash_centroid_density          FLOAT           x y                             \n",
       "group_extent_density            FLOAT           x y                             \n",
       "goes_imager_projection          INT                                             \n",
       "DQF                             BYTE            x y                             \n",
       "total_energy                    FLOAT           x y                             \n",
       "y                               SHORT           y                               \n",
       "flash_extent_density            FLOAT           x y                             \n",
       "nominal_satellite_subpoint_lat  DOUBLE                                          \n",
       "group_centroid_density          FLOAT           x y                             \n",
       "\n",
       "##### Attributes #####\n",
       "\n",
       "Variable            Name                Value                                   \n",
       "--------------------------------------------------------------------------------\n",
       "global              date_created        2021-03-01T23:35:45.924212Z             \n",
       "global              cspp_geo_gglm_prod..espresso.ssec.wisc.edu                  \n",
       "global              production_environ..DE                                      \n",
       "global              keywords            ATMOSPHERE > ATMOSPHERIC ELECTRICITY >..\n",
       "global              time_coverage_end   2019-10-26T18:00:00Z                    \n",
       "global              cdm_data_type       Image                                   \n",
       "global              cspp_geo_gglm_inpu..OR_GLM-L2-LCFA_G16_s20192991759000_e20..\n",
       "global              time_coverage_start 2019-10-26T17:59:00Z                    \n",
       "global              production_site     TTU                                     \n",
       "global              cspp_geo_gglm_vers..1.0b1rc3                                \n",
       "global              scene_id            Full Disk                               \n",
       "global              id                  93cb84a3-31ef-4823-89f5-c09d88fc89e8    \n",
       "global              processing_level    National Aeronautics and Space Adminis..\n",
       "global              spatial_resolution  2km at nadir                            \n",
       "global              standard_name_voca..CF Standard Name Table (v25, 05 July 2..\n",
       "global              timeline_id         ABI Mode 3                              \n",
       "global              summary             The Lightning Detection Gridded produc..\n",
       "global              naming_authority    gov.nesdis.noaa                         \n",
       "global              iso_series_metadat..f5816f53-fd6d-11e3-a3ac-0800200c9a66    \n",
       "global              dataset_name        OR_GLM-L2-GLMF-M3_G16_s20192991759000_..\n",
       "global              instrument_ID       FM1                                     \n",
       "global              platform_ID         G16                                     \n",
       "global              orbital_slot        GOES-East                               \n",
       "global              Conventions         CF-1.7                                  \n",
       "global              project             GOES                                    \n",
       "global              Metadata_ConventionsUnidata Dataset Discovery v1.0          \n",
       "global              production_data_so..Postprocessed                           \n",
       "global              title               GLM L2 Lightning Detection Gridded Pro..\n",
       "global              license             Unclassified data.  Access is restrict..\n",
       "global              keywords_vocabulary NASA Global Change Master Directory (G..\n",
       "global              institution         DOC/NOAA/NESDIS > U.S. Department of C..\n",
       "global              instrument_type     GOES R Series Geostationary Lightning ..\n",
       "nominal_satellite_..units               degrees_east                            \n",
       "nominal_satellite_..long_name           nominal satellite subpoint longitude (..\n",
       "nominal_satellite_..standard_name       longitude                               \n",
       "nominal_satellite_.._FillValue          -999.0                                  \n",
       "minimum_flash_area  units               km^2                                    \n",
       "minimum_flash_area  long_name           Minimum flash area                      \n",
       "minimum_flash_area  grid_mapping        goes_imager_projection                  \n",
       "minimum_flash_area  standard_name       minimum_flash_area                      \n",
       "minimum_flash_area  _FillValue          0.0                                     \n",
       "x                   units               rad                                     \n",
       "x                   add_offset          -0.151844                               \n",
       "x                   axis                X                                       \n",
       "x                   long_name           GOES fixed grid projection x-coordinate \n",
       "x                   scale_factor        5.6e-5                                  \n",
       "x                   standard_name       projection_x_coordinate                 \n",
       "x                   _FillValue          -999                                    \n",
       "average_flash_area  units               km^2 per flash                          \n",
       "average_flash_area  long_name           Average flash area                      \n",
       "average_flash_area  grid_mapping        goes_imager_projection                  \n",
       "average_flash_area  standard_name       average_flash_area                      \n",
       "average_flash_area  _FillValue          0.0                                     \n",
       "average_group_area  units               km^2 per group                          \n",
       "average_group_area  long_name           Average group area                      \n",
       "average_group_area  grid_mapping        goes_imager_projection                  \n",
       "average_group_area  standard_name       average_group_area                      \n",
       "average_group_area  _FillValue          0.0                                     \n",
       "flash_centroid_den..units               Count per nominal    3136 microradian^..\n",
       "flash_centroid_den..long_name           Flash centroid density                  \n",
       "flash_centroid_den..grid_mapping        goes_imager_projection                  \n",
       "flash_centroid_den..standard_name       flash_centroid_density                  \n",
       "flash_centroid_den.._FillValue          0.0                                     \n",
       "group_extent_densityunits               Count per nominal    3136 microradian^..\n",
       "group_extent_densitylong_name           Group extent density                    \n",
       "group_extent_densitygrid_mapping        goes_imager_projection                  \n",
       "group_extent_densitystandard_name       group_extent_density                    \n",
       "group_extent_density_FillValue          0.0                                     \n",
       "goes_imager_projec..perspective_point_..3.5786023e7                             \n",
       "goes_imager_projec..longitude_of_proje..-75.0                                   \n",
       "goes_imager_projec..sweep_angle_axis    x                                       \n",
       "goes_imager_projec..long_name           GOES-R ABI fixed grid projection        \n",
       "goes_imager_projec..inverse_flattening  298.2572221                             \n",
       "goes_imager_projec..semi_minor_axis     6.35675231414e6                         \n",
       "goes_imager_projec..latitude_of_projec..0.0                                     \n",
       "goes_imager_projec..grid_mapping_name   geostationary                           \n",
       "goes_imager_projec..semi_major_axis     6.378137e6                              \n",
       "DQF                 units               1                                       \n",
       "DQF                 number_of_qf_values 6                                       \n",
       "DQF                 flag_meanings       valid, invalid                          \n",
       "DQF                 long_name           GLM data quality flags                  \n",
       "DQF                 grid_mapping        goes_imager_projection                  \n",
       "DQF                 _Unsigned           true                                    \n",
       "DQF                 standard_name       status_flag                             \n",
       "DQF                 flag_values         Int32[0, 1]                             \n",
       "DQF                 _FillValue          -1                                      \n",
       "total_energy        units               nJ                                      \n",
       "total_energy        long_name           Total radiant energy                    \n",
       "total_energy        grid_mapping        goes_imager_projection                  \n",
       "total_energy        standard_name       total_energy                            \n",
       "total_energy        _FillValue          0.0                                     \n",
       "y                   units               rad                                     \n",
       "y                   add_offset          0.151844                                \n",
       "y                   axis                Y                                       \n",
       "y                   long_name           GOES fixed grid projection y-coordinate \n",
       "y                   scale_factor        -5.6e-5                                 \n",
       "y                   standard_name       projection_y_coordinate                 \n",
       "y                   _FillValue          -999                                    \n",
       "flash_extent_densityunits               Count per nominal    3136 microradian^..\n",
       "flash_extent_densitylong_name           Flash extent density                    \n",
       "flash_extent_densitygrid_mapping        goes_imager_projection                  \n",
       "flash_extent_densitystandard_name       flash_extent_density                    \n",
       "flash_extent_density_FillValue          0.0                                     \n",
       "nominal_satellite_..units               degrees_north                           \n",
       "nominal_satellite_..long_name           nominal satellite subpoint latitude (p..\n",
       "nominal_satellite_..standard_name       latitude                                \n",
       "nominal_satellite_.._FillValue          -999.0                                  \n",
       "group_centroid_den..units               Count per nominal    3136 microradian^..\n",
       "group_centroid_den..long_name           Group centroid density                  \n",
       "group_centroid_den..grid_mapping        goes_imager_projection                  \n",
       "group_centroid_den..standard_name       group_centroid_density                  \n",
       "group_centroid_den.._FillValue          0.0                                     \n"
      ]
     },
     "execution_count": 30,
     "metadata": {},
     "output_type": "execute_result"
    }
   ],
   "source": [
    "f = NetCDF.open(paths[1])"
   ]
  },
  {
   "cell_type": "code",
   "execution_count": 28,
   "id": "ongoing-basket",
   "metadata": {
    "scrolled": true
   },
   "outputs": [
    {
     "data": {
      "text/plain": [
       "Disk Array with size 5424\n"
      ]
     },
     "execution_count": 28,
     "metadata": {},
     "output_type": "execute_result"
    }
   ],
   "source": [
    "x = f[\"y\"]"
   ]
  },
  {
   "cell_type": "code",
   "execution_count": 29,
   "id": "japanese-trustee",
   "metadata": {},
   "outputs": [
    {
     "data": {
      "text/plain": [
       "Dict{Any, Any} with 7 entries:\n",
       "  \"units\"         => \"rad\"\n",
       "  \"add_offset\"    => 0.151844\n",
       "  \"axis\"          => \"Y\"\n",
       "  \"long_name\"     => \"GOES fixed grid projection y-coordinate\"\n",
       "  \"scale_factor\"  => -5.6e-5\n",
       "  \"standard_name\" => \"projection_y_coordinate\"\n",
       "  \"_FillValue\"    => -999"
      ]
     },
     "execution_count": 29,
     "metadata": {},
     "output_type": "execute_result"
    }
   ],
   "source": [
    "x.atts"
   ]
  },
  {
   "cell_type": "code",
   "execution_count": 22,
   "id": "dying-partner",
   "metadata": {},
   "outputs": [],
   "source": [
    "NetCDF.ncgetatt(paths[1],\"y\", \"units\")"
   ]
  },
  {
   "cell_type": "code",
   "execution_count": 43,
   "id": "sustainable-manner",
   "metadata": {},
   "outputs": [
    {
     "data": {
      "text/plain": [
       "5424×5424 Matrix{Float32}:\n",
       " 0.0  0.0  0.0  0.0  0.0  0.0  0.0  0.0  …  0.0  0.0  0.0  0.0  0.0  0.0  0.0\n",
       " 0.0  0.0  0.0  0.0  0.0  0.0  0.0  0.0     0.0  0.0  0.0  0.0  0.0  0.0  0.0\n",
       " 0.0  0.0  0.0  0.0  0.0  0.0  0.0  0.0     0.0  0.0  0.0  0.0  0.0  0.0  0.0\n",
       " 0.0  0.0  0.0  0.0  0.0  0.0  0.0  0.0     0.0  0.0  0.0  0.0  0.0  0.0  0.0\n",
       " 0.0  0.0  0.0  0.0  0.0  0.0  0.0  0.0     0.0  0.0  0.0  0.0  0.0  0.0  0.0\n",
       " 0.0  0.0  0.0  0.0  0.0  0.0  0.0  0.0  …  0.0  0.0  0.0  0.0  0.0  0.0  0.0\n",
       " 0.0  0.0  0.0  0.0  0.0  0.0  0.0  0.0     0.0  0.0  0.0  0.0  0.0  0.0  0.0\n",
       " 0.0  0.0  0.0  0.0  0.0  0.0  0.0  0.0     0.0  0.0  0.0  0.0  0.0  0.0  0.0\n",
       " 0.0  0.0  0.0  0.0  0.0  0.0  0.0  0.0     0.0  0.0  0.0  0.0  0.0  0.0  0.0\n",
       " 0.0  0.0  0.0  0.0  0.0  0.0  0.0  0.0     0.0  0.0  0.0  0.0  0.0  0.0  0.0\n",
       " 0.0  0.0  0.0  0.0  0.0  0.0  0.0  0.0  …  0.0  0.0  0.0  0.0  0.0  0.0  0.0\n",
       " 0.0  0.0  0.0  0.0  0.0  0.0  0.0  0.0     0.0  0.0  0.0  0.0  0.0  0.0  0.0\n",
       " 0.0  0.0  0.0  0.0  0.0  0.0  0.0  0.0     0.0  0.0  0.0  0.0  0.0  0.0  0.0\n",
       " ⋮                        ⋮              ⋱                 ⋮              \n",
       " 0.0  0.0  0.0  0.0  0.0  0.0  0.0  0.0     0.0  0.0  0.0  0.0  0.0  0.0  0.0\n",
       " 0.0  0.0  0.0  0.0  0.0  0.0  0.0  0.0     0.0  0.0  0.0  0.0  0.0  0.0  0.0\n",
       " 0.0  0.0  0.0  0.0  0.0  0.0  0.0  0.0     0.0  0.0  0.0  0.0  0.0  0.0  0.0\n",
       " 0.0  0.0  0.0  0.0  0.0  0.0  0.0  0.0  …  0.0  0.0  0.0  0.0  0.0  0.0  0.0\n",
       " 0.0  0.0  0.0  0.0  0.0  0.0  0.0  0.0     0.0  0.0  0.0  0.0  0.0  0.0  0.0\n",
       " 0.0  0.0  0.0  0.0  0.0  0.0  0.0  0.0     0.0  0.0  0.0  0.0  0.0  0.0  0.0\n",
       " 0.0  0.0  0.0  0.0  0.0  0.0  0.0  0.0     0.0  0.0  0.0  0.0  0.0  0.0  0.0\n",
       " 0.0  0.0  0.0  0.0  0.0  0.0  0.0  0.0     0.0  0.0  0.0  0.0  0.0  0.0  0.0\n",
       " 0.0  0.0  0.0  0.0  0.0  0.0  0.0  0.0  …  0.0  0.0  0.0  0.0  0.0  0.0  0.0\n",
       " 0.0  0.0  0.0  0.0  0.0  0.0  0.0  0.0     0.0  0.0  0.0  0.0  0.0  0.0  0.0\n",
       " 0.0  0.0  0.0  0.0  0.0  0.0  0.0  0.0     0.0  0.0  0.0  0.0  0.0  0.0  0.0\n",
       " 0.0  0.0  0.0  0.0  0.0  0.0  0.0  0.0     0.0  0.0  0.0  0.0  0.0  0.0  0.0"
      ]
     },
     "execution_count": 43,
     "metadata": {},
     "output_type": "execute_result"
    }
   ],
   "source": [
    "NetCDF.readvar(f, \"flash_extent_density\")"
   ]
  },
  {
   "cell_type": "code",
   "execution_count": 36,
   "id": "emerging-combination",
   "metadata": {},
   "outputs": [
    {
     "data": {
      "text/plain": [
       "5.3471456f7"
      ]
     },
     "execution_count": 36,
     "metadata": {},
     "output_type": "execute_result"
    }
   ],
   "source": [
    "5.2471456f7 + 1000000"
   ]
  },
  {
   "cell_type": "code",
   "execution_count": null,
   "id": "different-villa",
   "metadata": {},
   "outputs": [],
   "source": []
  }
 ],
 "metadata": {
  "kernelspec": {
   "display_name": "Julia 1.7.0-rc2",
   "language": "julia",
   "name": "julia-1.7"
  },
  "language_info": {
   "file_extension": ".jl",
   "mimetype": "application/julia",
   "name": "julia",
   "version": "1.7.0"
  }
 },
 "nbformat": 4,
 "nbformat_minor": 5
}
