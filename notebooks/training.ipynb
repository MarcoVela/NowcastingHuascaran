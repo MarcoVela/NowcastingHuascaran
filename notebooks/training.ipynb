{
 "cells": [
  {
   "cell_type": "code",
   "execution_count": 1,
   "metadata": {},
   "outputs": [],
   "source": [
    "import tensorflow as tf\n",
    "from tensorflow import keras\n",
    "from tensorflow.keras.utils import Sequence\n",
    "from tensorflow.keras.models import Model\n",
    "from tensorflow.keras import layers\n",
    "import numpy as np\n",
    "import h5py"
   ]
  },
  {
   "cell_type": "code",
   "execution_count": 2,
   "metadata": {},
   "outputs": [],
   "source": [
    "class DataGenerator(Sequence):\n",
    "    \"\"\"Generates data for Keras\"\"\"\n",
    "\n",
    "    def __init__(self, paths, batch_size=16, dim=(64, 64),\n",
    "                 shuffle=True, k=16):\n",
    "        \"\"\"Initialization\"\"\"\n",
    "        self.dim = dim\n",
    "        self.file_batch_size = 1024\n",
    "        self.batch_size = batch_size\n",
    "        self.n_batches = self.file_batch_size // self.batch_size\n",
    "        self.file_paths = paths\n",
    "        self.shuffle = shuffle\n",
    "        self.current_file_loaded = (None, None)\n",
    "        self.k = k\n",
    "        self.indexes = np.arange(len(self.file_paths) * int(self.file_batch_size / self.batch_size))\n",
    "        self.on_epoch_end()\n",
    "\n",
    "    def load_file(self, i):\n",
    "        with h5py.File(self.file_paths[i], \"r\") as f:\n",
    "            self.current_file_loaded = i, f[\"data/data\"][:]\n",
    "\n",
    "    def __len__(self):\n",
    "        \"\"\"Denotes the number of batches per epoch\"\"\"\n",
    "        return len(self.file_paths) * self.n_batches\n",
    "        # TODO: Arreglar esto\n",
    "\n",
    "    def __getitem__(self, index):\n",
    "        \"\"\"Generate one batch of data\"\"\"\n",
    "        # Generate indexes of the batch\n",
    "        file_index = index // self.n_batches\n",
    "        current_file_index, _ = self.current_file_loaded\n",
    "        if file_index != current_file_index:\n",
    "            self.load_file(file_index)\n",
    "        _, current_data = self.current_file_loaded\n",
    "        index_inside_file = index % self.n_batches\n",
    "        i = index_inside_file * self.batch_size\n",
    "        data = current_data[i:(i + self.batch_size)]\n",
    "        data[data > 1.0] = 1.0\n",
    "        X = data[:, :self.k]\n",
    "        y = data[:, self.k:self.k*2]\n",
    "        return X, y\n",
    "\n",
    "    def on_epoch_end(self):\n",
    "        \"\"\"Updates indexes after each epoch\"\"\"\n",
    "        self.indexes = np.arange(len(self.file_paths))\n",
    "        if self.shuffle:\n",
    "            np.random.shuffle(self.indexes)\n",
    "            np.random.shuffle(self.file_paths)\n",
    "            self.current_file_loaded = (None, None)"
   ]
  },
  {
   "cell_type": "code",
   "execution_count": 3,
   "metadata": {},
   "outputs": [],
   "source": [
    "from tensorflow.keras.losses import binary_crossentropy, BinaryCrossentropy\n",
    "from tensorflow.keras.optimizers import Adam\n",
    "\n",
    "def get_compiled_model():\n",
    "\n",
    "    inp = layers.Input(shape=(16, 64, 64, 1))\n",
    "\n",
    "\n",
    "    x = layers.ConvLSTM2D(\n",
    "        filters=64,\n",
    "        kernel_size=(5, 5),\n",
    "        padding=\"same\",\n",
    "        return_sequences=True,\n",
    "        activation=\"relu\",\n",
    "    )(inp)\n",
    "    x = layers.BatchNormalization()(x)\n",
    "    x = layers.ConvLSTM2D(\n",
    "        filters=64,\n",
    "        kernel_size=(3, 3),\n",
    "        padding=\"same\",\n",
    "        return_sequences=True,\n",
    "        activation=\"relu\",\n",
    "    )(x)\n",
    "    x = layers.BatchNormalization()(x)\n",
    "    \"\"\"x = layers.ConvLSTM2D(\n",
    "        filters=64,\n",
    "        kernel_size=(1, 1),\n",
    "        padding=\"same\",\n",
    "        return_sequences=True,\n",
    "        activation=\"relu\",\n",
    "    )(x)\"\"\"\n",
    "    x = layers.Conv3D(\n",
    "        filters=1, kernel_size=(3, 3, 3), activation=\"sigmoid\", padding=\"same\"\n",
    "    )(x)\n",
    "\n",
    "\n",
    "    model = Model(inp, x)\n",
    "    model.compile(\n",
    "        loss=BinaryCrossentropy(), \n",
    "        optimizer=Adam(),\n",
    "    )\n",
    "    return model\n"
   ]
  },
  {
   "cell_type": "code",
   "execution_count": 4,
   "metadata": {},
   "outputs": [],
   "source": [
    "import os\n",
    "folder = \"../data/exp_pro/GLM-L2-LCFA_8km_5m_boxes_64dt/h5/\"\n",
    "files = np.array([os.path.join(folder, x) for x in os.listdir(folder)][:-1])\n",
    "\n",
    "train_val_test_split = (.7, .2, .1)\n",
    "\n",
    "def split(arr, splits):\n",
    "    arr = np.array(arr)\n",
    "    idxs = np.arange(len(arr))\n",
    "    np.random.shuffle(idxs)\n",
    "    n_splits = list(int(len(arr)*x) for x in splits)\n",
    "    datasets = []\n",
    "    start = 0\n",
    "    n_splits[-1] += len(arr) - sum(n_splits)\n",
    "    n_splits = tuple(n_splits)\n",
    "    for split in n_splits:\n",
    "        datasets.append(arr[idxs[start:start+split]])\n",
    "        start += split\n",
    "    return tuple(datasets)\n",
    "\n",
    "train_files, val_files, test_files = split(files, train_val_test_split)\n",
    "\n",
    "train_generator = DataGenerator(train_files, k=16)\n",
    "val_generator = DataGenerator(val_files, k=16)\n",
    "test_generator = DataGenerator(test_files, k=16)"
   ]
  },
  {
   "cell_type": "code",
   "execution_count": 5,
   "metadata": {},
   "outputs": [],
   "source": [
    "model = get_compiled_model()\n",
    "\n",
    "from tensorflow.keras.callbacks import EarlyStopping, ReduceLROnPlateau, ModelCheckpoint, TerminateOnNaN\n",
    "\n",
    "\n",
    "filepath = \"saved-model-{epoch:02d}-{val_loss:.6f}.h5\"\n",
    "checkpoint = ModelCheckpoint(filepath, monitor='val_loss', verbose=1, save_best_only=False, mode='auto', save_weights_only=False)\n",
    "early_stopping = EarlyStopping(monitor=\"val_loss\", patience=10)\n",
    "reduce_lr = ReduceLROnPlateau(monitor=\"val_loss\", patience=5)\n",
    "terminate_nan = TerminateOnNaN()\n",
    "model.summary()"
   ]
  },
  {
   "cell_type": "code",
   "execution_count": 6,
   "metadata": {},
   "outputs": [
    {
     "name": "stdout",
     "output_type": "stream",
     "text": [
      "GPU name:  []\n"
     ]
    }
   ],
   "source": [
    "print('GPU name: ', tf.config.experimental.list_physical_devices('GPU'))"
   ]
  },
  {
   "cell_type": "code",
   "execution_count": null,
   "metadata": {},
   "outputs": [],
   "source": [
    "\n",
    "epochs = 5\n",
    "\n",
    "model.fit(\n",
    "    train_generator,\n",
    "    epochs=epochs,\n",
    "    validation_data=val_generator,\n",
    "    callbacks=[\n",
    "        early_stopping,\n",
    "        reduce_lr,\n",
    "        checkpoint,\n",
    "        terminate_nan,\n",
    "    ],\n",
    ")"
   ]
  },
  {
   "cell_type": "code",
   "execution_count": null,
   "metadata": {},
   "outputs": [],
   "source": [
    "\n",
    "model.evaluate(test_generator)"
   ]
  },
  {
   "cell_type": "code",
   "execution_count": null,
   "metadata": {},
   "outputs": [],
   "source": []
  }
 ],
 "metadata": {
  "kernelspec": {
   "display_name": "Python 3 (ipykernel)",
   "language": "python",
   "name": "python3"
  },
  "language_info": {
   "codemirror_mode": {
    "name": "ipython",
    "version": 3
   },
   "file_extension": ".py",
   "mimetype": "text/x-python",
   "name": "python",
   "nbconvert_exporter": "python",
   "pygments_lexer": "ipython3",
   "version": "3.9.6"
  }
 },
 "nbformat": 4,
 "nbformat_minor": 2
}
