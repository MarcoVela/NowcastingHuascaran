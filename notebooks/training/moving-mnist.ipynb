{
 "cells": [
  {
   "cell_type": "code",
   "execution_count": null,
   "metadata": {},
   "outputs": [],
   "source": [
    "using DrWatson"
   ]
  },
  {
   "cell_type": "code",
   "execution_count": null,
   "metadata": {},
   "outputs": [],
   "source": [
    "@quickactivate"
   ]
  },
  {
   "cell_type": "code",
   "execution_count": null,
   "metadata": {},
   "outputs": [],
   "source": [
    "using NPZ"
   ]
  },
  {
   "cell_type": "code",
   "execution_count": null,
   "metadata": {},
   "outputs": [],
   "source": [
    "using Parameters: @with_kw"
   ]
  },
  {
   "cell_type": "code",
   "execution_count": null,
   "metadata": {},
   "outputs": [],
   "source": [
    "@with_kw mutable struct Args\n",
    "    lr::Float64 = 1e-2  # Learning rate\n",
    "    batchsize::Int = 32 # Batch size\n",
    "    throttle::Int = 30  # Throttle timeout\n",
    "    epochs::Int = 2     # Number of Epochs\n",
    "end"
   ]
  },
  {
   "cell_type": "code",
   "execution_count": null,
   "metadata": {},
   "outputs": [],
   "source": [
    "args = Args()"
   ]
  },
  {
   "cell_type": "code",
   "execution_count": null,
   "metadata": {
    "scrolled": false
   },
   "outputs": [],
   "source": [
    "mnist_whole = @time NPZ.npzread(datadir(\"exp_raw\", \"moving-mnist\", \"mnist_test_seq.npy\")) ./ Float32(255);"
   ]
  },
  {
   "cell_type": "code",
   "execution_count": null,
   "metadata": {},
   "outputs": [],
   "source": [
    "mnist = permutedims(mnist_whole, (3,4,1,2));\n",
    "mnist = reshape(mnist, (size(mnist)[1:2]..., 1, size(mnist)[3:end]...))\n",
    "@show size(mnist)\n",
    "train_test_split = .8\n",
    "mnist_train = view(mnist, :, :, :, :, 1:Int(size(mnist, 5) * train_test_split))\n",
    "mnist_test = view(mnist, :, :, :, :, Int(size(mnist, 5) * train_test_split)+1:size(mnist, 5))\n",
    "@show size(mnist_train)\n",
    "@show size(mnist_test);"
   ]
  },
  {
   "cell_type": "code",
   "execution_count": null,
   "metadata": {},
   "outputs": [],
   "source": [
    "function broadcasted_σ(x)\n",
    "    Flux.σ.(x)\n",
    "end"
   ]
  },
  {
   "cell_type": "code",
   "execution_count": null,
   "metadata": {},
   "outputs": [],
   "source": []
  },
  {
   "cell_type": "code",
   "execution_count": null,
   "metadata": {},
   "outputs": [],
   "source": [
    "include(srcdir(\"layers\", \"ConvLSTM2D.jl\"))"
   ]
  },
  {
   "cell_type": "code",
   "execution_count": null,
   "metadata": {},
   "outputs": [],
   "source": []
  },
  {
   "cell_type": "code",
   "execution_count": null,
   "metadata": {},
   "outputs": [],
   "source": [
    "using Flux.Losses: binarycrossentropy"
   ]
  },
  {
   "cell_type": "code",
   "execution_count": null,
   "metadata": {},
   "outputs": [],
   "source": [
    "const model = Chain(\n",
    "    ConvLSTM2D((64, 64), (5, 5), 1 => 32, return_sequences=true, pad=SamePad()),\n",
    "    ConvLSTM2D((64, 64), (3, 3), 32 => 32, return_sequences=false, pad=SamePad()),\n",
    "    ConvLSTM2D((64, 64), (3, 3), 32 => 32, return_sequences=true, repeat_input=10, pad=SamePad()),\n",
    "    ConvLSTM2D((64, 64), (1, 1), 32 => 32, return_sequences=true, pad=SamePad()),\n",
    "    Conv((3, 3), 32 => 1, σ, pad=SamePad())\n",
    ") |> gpu"
   ]
  },
  {
   "cell_type": "code",
   "execution_count": null,
   "metadata": {},
   "outputs": [],
   "source": []
  },
  {
   "cell_type": "code",
   "execution_count": null,
   "metadata": {},
   "outputs": [],
   "source": []
  },
  {
   "cell_type": "code",
   "execution_count": null,
   "metadata": {},
   "outputs": [],
   "source": []
  },
  {
   "cell_type": "code",
   "execution_count": null,
   "metadata": {},
   "outputs": [],
   "source": [
    "using CUDA"
   ]
  },
  {
   "cell_type": "code",
   "execution_count": null,
   "metadata": {},
   "outputs": [],
   "source": [
    "const device = CUDA.CuArray"
   ]
  },
  {
   "cell_type": "code",
   "execution_count": null,
   "metadata": {},
   "outputs": [],
   "source": [
    "using Statistics\n",
    "function loss(X, y)\n",
    "    Flux.reset!(model)\n",
    "    X_dev = device(X)\n",
    "    y_pred = model(X_dev)\n",
    "    errors = binarycrossentropy(Array(y_pred), y; agg=identity)\n",
    "    sum(mean(errors; dims=(1,2,3)))\n",
    "end"
   ]
  },
  {
   "cell_type": "code",
   "execution_count": null,
   "metadata": {},
   "outputs": [],
   "source": [
    "function batched_loss(X, y)\n",
    "    X_dev = device(X)\n",
    "    X_gen = (view(X_dev, :, :, :, :, t) for t in axes(X_dev, 5))\n",
    "    y_gen = (view(y, :, :, :, :, t) for t in axes(y, 5))\n",
    "    mean(loss(X_n, y_n) for (X_n, y_n) in zip(X_gen, y_gen))\n",
    "end"
   ]
  },
  {
   "cell_type": "code",
   "execution_count": null,
   "metadata": {},
   "outputs": [],
   "source": [
    "N = 10"
   ]
  },
  {
   "cell_type": "code",
   "execution_count": null,
   "metadata": {},
   "outputs": [],
   "source": [
    "mnist_x, mnist_y = copy(view(mnist_train, :, :, :, 1:N, 1:1024)), copy(view(mnist_train, :, :, :, N+1:20, 1:1024));"
   ]
  },
  {
   "cell_type": "code",
   "execution_count": null,
   "metadata": {},
   "outputs": [],
   "source": [
    "using Flux.Data: DataLoader\n",
    "data = DataLoader((mnist_x, mnist_y); batchsize=args.batchsize, partial=false);"
   ]
  },
  {
   "cell_type": "code",
   "execution_count": null,
   "metadata": {},
   "outputs": [],
   "source": [
    "data = zip(\n",
    "    (copy(view(mnist_train, :, :, :, 1:N, t)) for t in axes(mnist_train, 5)),\n",
    "    (copy(view(mnist_train, :, :, :, N+1:20, t)) for t in axes(mnist_train, 5))\n",
    ")"
   ]
  },
  {
   "cell_type": "code",
   "execution_count": null,
   "metadata": {},
   "outputs": [],
   "source": [
    "tx, ty = (view(mnist_test, :,:,:,1:N,1:64), view(mnist_test, :,:,:,N+1:20,1:64))\n",
    "evalcb = () -> @show batched_loss(tx, ty)"
   ]
  },
  {
   "cell_type": "code",
   "execution_count": null,
   "metadata": {},
   "outputs": [],
   "source": [
    "using Flux.Optimise: ADAM\n",
    "opt = ADAM(args.lr)"
   ]
  },
  {
   "cell_type": "code",
   "execution_count": null,
   "metadata": {},
   "outputs": [],
   "source": [
    "using Flux: throttle, params"
   ]
  },
  {
   "cell_type": "code",
   "execution_count": null,
   "metadata": {
    "scrolled": false
   },
   "outputs": [],
   "source": [
    "p = params(model)\n",
    "p.params"
   ]
  },
  {
   "cell_type": "code",
   "execution_count": null,
   "metadata": {
    "scrolled": false
   },
   "outputs": [],
   "source": [
    "Flux.train!(loss, p, data, opt)"
   ]
  },
  {
   "cell_type": "code",
   "execution_count": null,
   "metadata": {},
   "outputs": [],
   "source": [
    "batched_loss(tx, ty)"
   ]
  },
  {
   "cell_type": "code",
   "execution_count": null,
   "metadata": {},
   "outputs": [],
   "source": [
    "model[1].cell"
   ]
  },
  {
   "cell_type": "code",
   "execution_count": null,
   "metadata": {},
   "outputs": [],
   "source": []
  }
 ],
 "metadata": {
  "kernelspec": {
   "display_name": "Julia 1.7.2",
   "language": "julia",
   "name": "julia-1.7"
  },
  "language_info": {
   "file_extension": ".jl",
   "mimetype": "application/julia",
   "name": "julia",
   "version": "1.7.2"
  }
 },
 "nbformat": 4,
 "nbformat_minor": 4
}
