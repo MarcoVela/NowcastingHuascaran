{
 "cells": [
  {
   "cell_type": "code",
   "execution_count": 1,
   "id": "83c97363",
   "metadata": {},
   "outputs": [],
   "source": [
    "import tensorflow as tf\n",
    "from tensorflow import keras\n",
    "from tensorflow.keras.utils import Sequence\n",
    "from tensorflow.keras.models import Model\n",
    "from tensorflow.keras import layers\n",
    "from tensorflow.keras.layers import Lambda\n",
    "from tensorflow.keras.backend import expand_dims, repeat_elements\n",
    "import numpy as np\n",
    "import h5py"
   ]
  },
  {
   "cell_type": "code",
   "execution_count": 15,
   "id": "36478b28",
   "metadata": {},
   "outputs": [],
   "source": [
    "class DataGenerator(Sequence):\n",
    "    \"\"\"Generates data for Keras\"\"\"\n",
    "\n",
    "    def __init__(self, paths, batch_size=16, dim=(64, 64),\n",
    "                 shuffle=True, k=16):\n",
    "        \"\"\"Initialization\"\"\"\n",
    "        self.dim = dim\n",
    "        self.file_batch_size = 1024\n",
    "        self.batch_size = batch_size\n",
    "        self.n_batches = self.file_batch_size // self.batch_size\n",
    "        self.file_paths = paths\n",
    "        self.shuffle = shuffle\n",
    "        self.current_file_loaded = (None, None)\n",
    "        self.k = k\n",
    "        self.indexes = np.arange(len(self.file_paths) * int(self.file_batch_size / self.batch_size))\n",
    "        self.on_epoch_end()\n",
    "\n",
    "    def load_file(self, i):\n",
    "        with h5py.File(self.file_paths[i], \"r\") as f:\n",
    "            self.current_file_loaded = i, f[\"data/data\"][:]\n",
    "\n",
    "    def __len__(self):\n",
    "        \"\"\"Denotes the number of batches per epoch\"\"\"\n",
    "        return len(self.file_paths) * self.n_batches\n",
    "        # TODO: Arreglar esto\n",
    "\n",
    "    def __getitem__(self, index):\n",
    "        \"\"\"Generate one batch of data\"\"\"\n",
    "        # Generate indexes of the batch\n",
    "        file_index = index // self.n_batches\n",
    "        current_file_index, _ = self.current_file_loaded\n",
    "        if file_index != current_file_index:\n",
    "            self.load_file(file_index)\n",
    "        _, current_data = self.current_file_loaded\n",
    "        index_inside_file = index % self.n_batches\n",
    "        i = index_inside_file * self.batch_size\n",
    "        data = current_data[i:(i + self.batch_size)]\n",
    "        data[data > 1.0] = 1.0\n",
    "        X = data[:, :self.k]\n",
    "        y = data[:, self.k:self.k*2]\n",
    "        return X, y\n",
    "\n",
    "    def on_epoch_end(self):\n",
    "        \"\"\"Updates indexes after each epoch\"\"\"\n",
    "        self.indexes = np.arange(len(self.file_paths))\n",
    "        if self.shuffle:\n",
    "            np.random.shuffle(self.indexes)\n",
    "            np.random.shuffle(self.file_paths)\n",
    "            self.current_file_loaded = (None, None)"
   ]
  },
  {
   "cell_type": "code",
   "execution_count": null,
   "id": "5c28337b",
   "metadata": {},
   "outputs": [],
   "source": [
    "repeat_elements"
   ]
  },
  {
   "cell_type": "code",
   "execution_count": 3,
   "id": "d79caf65",
   "metadata": {},
   "outputs": [],
   "source": [
    "from tensorflow.keras.losses import binary_crossentropy, BinaryCrossentropy\n",
    "from tensorflow.keras.optimizers import Adam\n",
    "\n",
    "def get_compiled_model():\n",
    "\n",
    "    inp = layers.Input(shape=(32, 64, 64, 1))\n",
    "\n",
    "    # Probar normalizar dividiendo entre 300\n",
    "    # Probar normalizar log(x+1)\n",
    "    \n",
    "    x = layers.ConvLSTM2D(\n",
    "        filters=48,\n",
    "        kernel_size=(5, 5),\n",
    "        #padding=\"same\",\n",
    "        return_sequences=True,\n",
    "        activation=\"relu\",\n",
    "    )(inp)\n",
    "    x = layers.ConvLSTM2D(\n",
    "        filters=64,\n",
    "        kernel_size=(3, 3),\n",
    "        #padding=\"same\",\n",
    "        activation=\"relu\",\n",
    "    )(x)\n",
    "    x = Lambda(lambda x: repeat_elements(expand_dims(x, axis=1), 16, 1))(x)\n",
    "    x = layers.ConvLSTM2D(\n",
    "        filters=64,\n",
    "        kernel_size=(1, 1),\n",
    "        #padding=\"same\",\n",
    "        return_sequences=True,\n",
    "        activation=\"relu\",\n",
    "    )(x)\n",
    "    x = layers.ConvLSTM2D(\n",
    "        filters=64,\n",
    "        kernel_size=(1, 1),\n",
    "        #padding=\"same\",\n",
    "        return_sequences=True,\n",
    "        activation=\"relu\",\n",
    "    )(x)\n",
    "    x = layers.Conv2D(\n",
    "        filters=64, kernel_size=(3, 3), activation=\"sigmoid\", padding=\"same\"\n",
    "    )(x)\n",
    "\n",
    "\n",
    "    model = Model(inp, x)\n",
    "    model.compile(\n",
    "        loss=BinaryCrossentropy(), \n",
    "        optimizer=Adam(),\n",
    "    )\n",
    "    return model\n"
   ]
  },
  {
   "cell_type": "code",
   "execution_count": 4,
   "id": "9fa37717",
   "metadata": {},
   "outputs": [],
   "source": [
    "# [0, 1>\n",
    "# [1, 5>\n",
    "# [5, ...>\n",
    "# [..., 80>\n",
    "# [80, inf>"
   ]
  },
  {
   "cell_type": "code",
   "execution_count": 5,
   "id": "3a51d0fd",
   "metadata": {},
   "outputs": [],
   "source": [
    "model = get_compiled_model()"
   ]
  },
  {
   "cell_type": "code",
   "execution_count": 6,
   "id": "15396800",
   "metadata": {},
   "outputs": [
    {
     "name": "stdout",
     "output_type": "stream",
     "text": [
      "Model: \"model\"\n",
      "_________________________________________________________________\n",
      " Layer (type)                Output Shape              Param #   \n",
      "=================================================================\n",
      " input_1 (InputLayer)        [(None, 32, 64, 64, 1)]   0         \n",
      "                                                                 \n",
      " conv_lstm2d (ConvLSTM2D)    (None, 32, 60, 60, 48)    235392    \n",
      "                                                                 \n",
      " conv_lstm2d_1 (ConvLSTM2D)  (None, 58, 58, 64)        258304    \n",
      "                                                                 \n",
      " lambda (Lambda)             (None, 16, 58, 58, 64)    0         \n",
      "                                                                 \n",
      " conv_lstm2d_2 (ConvLSTM2D)  (None, 16, 58, 58, 64)    33024     \n",
      "                                                                 \n",
      " conv_lstm2d_3 (ConvLSTM2D)  (None, 16, 58, 58, 64)    33024     \n",
      "                                                                 \n",
      " conv2d (Conv2D)             (None, 16, 58, 58, 64)    36928     \n",
      "                                                                 \n",
      "=================================================================\n",
      "Total params: 596,672\n",
      "Trainable params: 596,672\n",
      "Non-trainable params: 0\n",
      "_________________________________________________________________\n"
     ]
    }
   ],
   "source": [
    "model.summary()"
   ]
  },
  {
   "cell_type": "code",
   "execution_count": null,
   "id": "1bfbbc6e",
   "metadata": {},
   "outputs": [],
   "source": []
  }
 ],
 "metadata": {
  "kernelspec": {
   "display_name": "Python 3 (ipykernel)",
   "language": "python",
   "name": "python3"
  },
  "language_info": {
   "codemirror_mode": {
    "name": "ipython",
    "version": 3
   },
   "file_extension": ".py",
   "mimetype": "text/x-python",
   "name": "python",
   "nbconvert_exporter": "python",
   "pygments_lexer": "ipython3",
   "version": "3.9.6"
  }
 },
 "nbformat": 4,
 "nbformat_minor": 5
}
