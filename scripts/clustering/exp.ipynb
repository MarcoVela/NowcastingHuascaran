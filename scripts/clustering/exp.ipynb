{
 "cells": [
  {
   "cell_type": "code",
   "execution_count": 1,
   "id": "05295e17-90f7-44f7-bc16-62d704717282",
   "metadata": {},
   "outputs": [],
   "source": [
    "using DrWatson\n",
    "@quickactivate"
   ]
  },
  {
   "cell_type": "code",
   "execution_count": 2,
   "id": "d1b9c619",
   "metadata": {},
   "outputs": [],
   "source": [
    "using ProgressMeter"
   ]
  },
  {
   "cell_type": "code",
   "execution_count": 3,
   "id": "c34c2e80-2d3b-4c61-9eba-39a1aa631d7a",
   "metadata": {},
   "outputs": [
    {
     "data": {
      "text/plain": [
       "generate_datasets (generic function with 1 method)"
      ]
     },
     "execution_count": 3,
     "metadata": {},
     "output_type": "execute_result"
    }
   ],
   "source": [
    "include(\"utils.jl\")"
   ]
  },
  {
   "cell_type": "code",
   "execution_count": null,
   "id": "cdcd5430",
   "metadata": {},
   "outputs": [],
   "source": []
  },
  {
   "cell_type": "code",
   "execution_count": null,
   "id": "685e076f",
   "metadata": {},
   "outputs": [],
   "source": []
  },
  {
   "cell_type": "code",
   "execution_count": null,
   "id": "36eaaea5",
   "metadata": {},
   "outputs": [],
   "source": []
  },
  {
   "cell_type": "code",
   "execution_count": 5,
   "id": "b7588530",
   "metadata": {},
   "outputs": [
    {
     "name": "stderr",
     "output_type": "stream",
     "text": [
      "\u001b[32mProgress: 100%|█████████████████████████████████████████| Time: 1:22:55\u001b[39m\n"
     ]
    }
   ],
   "source": [
    "generate_datasets(\n",
    "    \"../../data/exp_pro/GLM-L2-LCFA_8km_5m/2019\", \n",
    "    \"../../data/exp_pro/GLM-L2-LCFA_8km_5m_boxes_32dt_dilated_binary\";\n",
    "    stores=(H5Store,),\n",
    "    binary_threshold=Float32(2.0)\n",
    ")"
   ]
  },
  {
   "cell_type": "code",
   "execution_count": null,
   "id": "4a52e32a",
   "metadata": {},
   "outputs": [],
   "source": []
  },
  {
   "cell_type": "code",
   "execution_count": 14,
   "id": "fa959107-7021-493d-99af-1bcd041f8956",
   "metadata": {},
   "outputs": [
    {
     "name": "stderr",
     "output_type": "stream",
     "text": [
      "\u001b[32mProgress: 100%|█████████████████████████████████████████| Time: 0:19:41\u001b[39m\n"
     ]
    }
   ],
   "source": [
    "TIME_SIZE = 32\n",
    "generate_datasets(\n",
    "    \"../../data/exp_pro/GLM-L2-LCFA_8km_5m/2019\", \n",
    "    \"../../data/exp_pro/GLM-L2-LCFA_8km_5m_boxes_64dt_binary\";\n",
    "    stores=(H5Store,),\n",
    ")"
   ]
  },
  {
   "cell_type": "code",
   "execution_count": null,
   "id": "5f52eb7e",
   "metadata": {},
   "outputs": [],
   "source": []
  }
 ],
 "metadata": {
  "kernelspec": {
   "display_name": "Julia 1.7.2",
   "language": "julia",
   "name": "julia-1.7"
  },
  "language_info": {
   "file_extension": ".jl",
   "mimetype": "application/julia",
   "name": "julia",
   "version": "1.7.2"
  }
 },
 "nbformat": 4,
 "nbformat_minor": 5
}
